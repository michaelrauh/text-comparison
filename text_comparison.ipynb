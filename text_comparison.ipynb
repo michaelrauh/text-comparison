{
 "cells": [
  {
   "cell_type": "code",
   "execution_count": null,
   "id": "e6edca47-c24e-43ae-8aeb-b26a5c73a098",
   "metadata": {},
   "outputs": [],
   "source": [
    "import sys\n",
    "!{sys.executable} -m pip install --quiet langchain-experimental langchain-community langchain-core langchain-chroma langchain_openai langchain_text_splitters"
   ]
  },
  {
   "cell_type": "code",
   "execution_count": null,
   "id": "848fda41-1492-456d-b41b-d7cbe2886a48",
   "metadata": {},
   "outputs": [],
   "source": [
    "from operator import itemgetter\n",
    "\n",
    "from langchain_community.vectorstores import FAISS\n",
    "from langchain_core.output_parsers import StrOutputParser\n",
    "from langchain_core.prompts import ChatPromptTemplate\n",
    "from langchain_core.runnables import RunnableLambda, RunnablePassthrough\n",
    "from langchain_openai import ChatOpenAI, OpenAIEmbeddings\n",
    "from langchain_experimental.text_splitter import SemanticChunker\n",
    "from langchain_openai.embeddings import OpenAIEmbeddings\n",
    "from langchain_text_splitters import RecursiveCharacterTextSplitter\n",
    "from langchain_community.document_loaders import TextLoader\n",
    "from langchain_community.vectorstores import FAISS\n",
    "from langchain_openai import OpenAIEmbeddings\n",
    "from langchain_text_splitters import CharacterTextSplitter\n",
    "\n",
    "from langchain_community.document_loaders import TextLoader\n",
    "from langchain_openai import OpenAIEmbeddings\n",
    "from langchain_text_splitters import CharacterTextSplitter\n",
    "from langchain_chroma import Chroma\n",
    "\n",
    "from langchain_experimental.text_splitter import SemanticChunker\n",
    "from langchain_openai.embeddings import OpenAIEmbeddings\n",
    "import getpass\n",
    "import os\n",
    "import urllib"
   ]
  },
  {
   "cell_type": "code",
   "execution_count": null,
   "id": "feb6f3ac-cac0-45f9-b4f1-6ef228c874fa",
   "metadata": {},
   "outputs": [],
   "source": [
    "os.environ[\"OPENAI_API_KEY\"] = getpass.getpass()"
   ]
  },
  {
   "cell_type": "code",
   "execution_count": null,
   "id": "fe83ff15-63f6-4707-85b5-1b6da987c057",
   "metadata": {},
   "outputs": [],
   "source": [
    "tao_filename = 'tao.txt'\n",
    "gita_filename = 'gita.txt'\n",
    "gospels_filename = 'gospels.txt'"
   ]
  },
  {
   "cell_type": "code",
   "execution_count": null,
   "id": "ba66830d-9faa-41c6-8718-4ecfb349e781",
   "metadata": {},
   "outputs": [],
   "source": [
    "def download_gospels():\n",
    "    urllib.request.urlretrieve('https://www.gutenberg.org/cache/epub/10/pg10.txt', 'bible.txt')\n",
    "    with open('bible.txt', 'r') as f:\n",
    "        bible = f.read()\n",
    "    start = bible.find('Saint Matthew', bible.find('Saint Matthew') + 1)\n",
    "    end = bible.find('Acts of the Apostles', bible.find('Acts of the Apostles') + 1)\n",
    "    gospels = bible[start:end]\n",
    "    with open(gospels_filename, 'w') as f:\n",
    "        f.write(gospels)"
   ]
  },
  {
   "cell_type": "code",
   "execution_count": null,
   "id": "adb6f335-9d6d-428e-99c1-039aadbe1ed6",
   "metadata": {},
   "outputs": [],
   "source": [
    "if not (tao_filename in os.listdir() and gospels_filename in os.listdir() and gita_filename in os.listdir()):\n",
    "    print(\"downloading texts and supporting texts\")\n",
    "    download_gospels()\n",
    "    urllib.request.urlretrieve('https://www.gutenberg.org/cache/epub/2388/pg2388.txt', gita_filename)\n",
    "    urllib.request.urlretrieve('https://www.gutenberg.org/cache/epub/216/pg216.txt', tao_filename)\n",
    "else:\n",
    "    print(\"using cached texts\")\n"
   ]
  },
  {
   "cell_type": "code",
   "execution_count": null,
   "id": "06ed808b-1789-4e91-be03-900a7029d8ba",
   "metadata": {},
   "outputs": [],
   "source": [
    "def get_loader(filename, store, threshold):\n",
    "    loader = TextLoader(filename)\n",
    "    embeddings = OpenAIEmbeddings()\n",
    "    documents = loader.load()[0].page_content\n",
    "    text_splitter = SemanticChunker(embeddings, breakpoint_threshold_type=\"percentile\", breakpoint_threshold_amount= threshold)\n",
    "    \n",
    "    texts = text_splitter.create_documents([documents], [{\"source\": filename}])\n",
    "    print(len(texts))\n",
    "    store.add_documents(texts)\n",
    "    retriever = store.as_retriever(search_kwargs={\"k\": 1, \"filter\":{\"source\":filename}}) \n",
    "    return retriever, texts"
   ]
  },
  {
   "cell_type": "code",
   "execution_count": null,
   "id": "ee11a4e5-75eb-4746-8baf-b01b22f8d2f0",
   "metadata": {},
   "outputs": [],
   "source": [
    "embeddings = OpenAIEmbeddings()\n",
    "vectorstore = Chroma(\"langchain_store\", embeddings)\n",
    "\n",
    "tao_retriever, tao_texts = get_loader(tao_filename, vectorstore, 30)\n",
    "gita_retriever, gita_texts = get_loader(gita_filename, vectorstore, 30)\n",
    "gospels_retriever, gospels_texts = get_loader(gospels_filename, vectorstore, 30)"
   ]
  },
  {
   "cell_type": "code",
   "execution_count": null,
   "id": "eb0e2b84-6540-42f8-94d7-acc4b4c9e36d",
   "metadata": {},
   "outputs": [],
   "source": [
    "i = 0"
   ]
  },
  {
   "cell_type": "code",
   "execution_count": null,
   "id": "f503f8ef-2fe2-4edd-8f11-5c73a54430d9",
   "metadata": {},
   "outputs": [],
   "source": [
    "chunk = gita_texts[i]\n",
    "content = chunk.page_content\n",
    "print(\"-----------------\")\n",
    "print(\"gita:\")\n",
    "print(content)\n",
    "print(\"\\n\")\n",
    "print(\"tao:\")\n",
    "print(tao_retriever.invoke(content)[0].page_content)\n",
    "print(\"\\n\")\n",
    "print(\"gospel:\")\n",
    "print(gospels_retriever.invoke(content)[0].page_content)\n",
    "print(\"-----------------\")\n",
    "print(\"\\n\\n\\n\")\n",
    "i += 1"
   ]
  },
  {
   "cell_type": "code",
   "execution_count": null,
   "id": "017f5627-a0d8-4334-b551-df94efe263f1",
   "metadata": {},
   "outputs": [],
   "source": []
  }
 ],
 "metadata": {
  "kernelspec": {
   "display_name": "Python 3 (ipykernel)",
   "language": "python",
   "name": "python3"
  },
  "language_info": {
   "codemirror_mode": {
    "name": "ipython",
    "version": 3
   },
   "file_extension": ".py",
   "mimetype": "text/x-python",
   "name": "python",
   "nbconvert_exporter": "python",
   "pygments_lexer": "ipython3",
   "version": "3.11.9"
  }
 },
 "nbformat": 4,
 "nbformat_minor": 5
}
